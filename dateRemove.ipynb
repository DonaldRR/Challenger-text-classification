{
 "cells": [
  {
   "cell_type": "code",
   "execution_count": 1,
   "metadata": {},
   "outputs": [],
   "source": [
    "import config\n",
    "import numpy as np\n",
    "import matplotlib\n",
    "matplotlib.use('TkAgg')\n",
    "from matplotlib import pyplot as plt"
   ]
  },
  {
   "cell_type": "code",
   "execution_count": 2,
   "metadata": {},
   "outputs": [],
   "source": [
    "Train_label = np.load(config.train_label_path)\n",
    "Train_seq = np.load(config.train_sequence_path)"
   ]
  },
  {
   "cell_type": "code",
   "execution_count": 3,
   "metadata": {},
   "outputs": [],
   "source": [
    "num_train = Train_label.shape[1]"
   ]
  },
  {
   "cell_type": "code",
   "execution_count": 4,
   "metadata": {},
   "outputs": [
    {
     "name": "stdout",
     "output_type": "stream",
     "text": [
      "Train label shape:(20, 105000, 4)\n"
     ]
    }
   ],
   "source": [
    "print('Train label shape:{}'.format(Train_label.shape))"
   ]
  },
  {
   "cell_type": "code",
   "execution_count": 5,
   "metadata": {},
   "outputs": [],
   "source": [
    "countIdx = np.sum(Train_label, axis=1)\n",
    "maxIdx = np.argmax(countIdx, axis=1)"
   ]
  },
  {
   "cell_type": "code",
   "execution_count": 6,
   "metadata": {},
   "outputs": [],
   "source": [
    "dict_maxIdxRate = {}\n",
    "for i in range(len(maxIdx)):\n",
    "    dict_maxIdxRate[str(i)] = [maxIdx[i], countIdx[i][maxIdx[i]]/105000]"
   ]
  },
  {
   "cell_type": "code",
   "execution_count": 7,
   "metadata": {},
   "outputs": [
    {
     "name": "stdout",
     "output_type": "stream",
     "text": [
      "Rate of maximum counted class with class index\n",
      "\n"
     ]
    },
    {
     "data": {
      "text/plain": [
       "{'0': [3, 0.7750666666666667],\n",
       " '1': [3, 0.796952380952381],\n",
       " '2': [3, 0.7676666666666667],\n",
       " '3': [3, 0.8834571428571428],\n",
       " '4': [3, 0.4039047619047619],\n",
       " '5': [3, 0.9359619047619048],\n",
       " '6': [3, 0.8447619047619047],\n",
       " '7': [3, 0.5030476190476191],\n",
       " '8': [3, 0.7642095238095238],\n",
       " '9': [3, 0.6118380952380953],\n",
       " '10': [3, 0.5134857142857143],\n",
       " '11': [3, 0.6994761904761905],\n",
       " '12': [3, 0.6228380952380952],\n",
       " '13': [3, 0.6342666666666666],\n",
       " '14': [3, 0.5420666666666667],\n",
       " '15': [1, 0.5273047619047619],\n",
       " '16': [3, 0.7235714285714285],\n",
       " '17': [3, 0.8073047619047619],\n",
       " '18': [1, 0.6673333333333333],\n",
       " '19': [3, 0.6247619047619047]}"
      ]
     },
     "execution_count": 7,
     "metadata": {},
     "output_type": "execute_result"
    }
   ],
   "source": [
    "print('Rate of maximum counted class with class index\\n')\n",
    "dict_maxIdxRate"
   ]
  },
  {
   "cell_type": "code",
   "execution_count": 8,
   "metadata": {
    "scrolled": true
   },
   "outputs": [],
   "source": [
    "from copy import copy\n",
    "trans_label = copy(Train_label)\n",
    "\n",
    "for i in range(20):\n",
    "    temp_idx = dict_maxIdxRate[str(i)][0]\n",
    "    temp_arr = [0]*4\n",
    "    temp_arr[temp_idx] = 1\n",
    "    trans_label[i] = np.multiply(Train_label[i], np.array([temp_arr] * num_train))"
   ]
  },
  {
   "cell_type": "code",
   "execution_count": 9,
   "metadata": {},
   "outputs": [],
   "source": [
    "sum_label_simi = np.sum(np.sum(trans_label, axis=2), axis=0)\n",
    "\n",
    "idxs = range(num_train)\n",
    "idxs_90 = np.nonzero(np.array((sum_label_simi >= 18), dtype=int))[0]\n",
    "idxs_80 = np.nonzero(np.array((sum_label_simi >= 16), dtype=int))[0]\n",
    "idxs_70 = np.nonzero(np.array((sum_label_simi >= 14), dtype=int))[0]\n",
    "idxs_60 = np.nonzero(np.array((sum_label_simi >= 12), dtype=int))[0]\n",
    "idxs_60 = np.setdiff1d(idxs_60, idxs_70)\n",
    "idxs_70 = np.setdiff1d(idxs_70, idxs_80)\n",
    "idxs_80 = np.setdiff1d(idxs_80, idxs_90)"
   ]
  },
  {
   "cell_type": "code",
   "execution_count": 10,
   "metadata": {},
   "outputs": [
    {
     "name": "stdout",
     "output_type": "stream",
     "text": [
      "Length idxs 90:5976\n",
      "Length idxs 80:21050\n",
      "Length idxs 70:30525\n"
     ]
    }
   ],
   "source": [
    "print('Length idxs 90:{}\\nLength idxs 80:{}\\nLength idxs 70:{}'.format(len(idxs_90), len(idxs_80), len(idxs_70)))"
   ]
  },
  {
   "cell_type": "code",
   "execution_count": 11,
   "metadata": {},
   "outputs": [
    {
     "data": {
      "text/plain": [
       "63575"
      ]
     },
     "execution_count": 11,
     "metadata": {},
     "output_type": "execute_result"
    }
   ],
   "source": [
    "# remove rate: >=90%:90%; >=80%:70%; >=70%:50%; >=60:30%\n",
    "remove_rate = [0.9, 0.9, 0.7, 0.7]\n",
    "remove_idxs = np.concatenate((np.random.choice(idxs_90, size=int(remove_rate[0]*len(idxs_90))),\\\n",
    "                              np.random.choice(idxs_80, size=int(remove_rate[1]*len(idxs_80))),\\\n",
    "                              np.random.choice(idxs_70, size=int(remove_rate[2]*len(idxs_70))),\\\n",
    "                              np.random.choice(idxs_60, size=int(remove_rate[3]*len(idxs_60)))\n",
    "                             ))\n",
    "len(remove_idxs)"
   ]
  },
  {
   "cell_type": "code",
   "execution_count": 12,
   "metadata": {},
   "outputs": [],
   "source": [
    "from tqdm import tqdm\n",
    "temp_train_label = copy(Train_label)\n",
    "# for i in tqdm(range(len(remove_idxs))):\n",
    "#     temp_train_label = np.delete(temp_train_label, remove_idxs[i], axis=1)\n",
    "temp_train_label = np.delete(temp_train_label, remove_idxs, axis=1)"
   ]
  },
  {
   "cell_type": "code",
   "execution_count": 13,
   "metadata": {},
   "outputs": [],
   "source": [
    "import matplotlib\n",
    "matplotlib.use('TkAgg')\n",
    "from matplotlib import pyplot as plt"
   ]
  },
  {
   "cell_type": "code",
   "execution_count": 14,
   "metadata": {},
   "outputs": [],
   "source": [
    "data_pies = np.sum(temp_train_label, axis=1)\n",
    "for i in range(20):\n",
    "    plt.subplot(4,5,i+1)\n",
    "    plt.pie(data_pies[i])"
   ]
  },
  {
   "cell_type": "code",
   "execution_count": null,
   "metadata": {},
   "outputs": [],
   "source": [
    "plt.show()"
   ]
  },
  {
   "cell_type": "code",
   "execution_count": 24,
   "metadata": {},
   "outputs": [],
   "source": [
    "data_pies = np.sum(temp_train_label, axis=1)"
   ]
  },
  {
   "cell_type": "code",
   "execution_count": 26,
   "metadata": {},
   "outputs": [
    {
     "data": {
      "text/plain": [
       "array([[  716., 14099.,   903., 45005.],\n",
       "       [  369., 13725.,   460., 46169.],\n",
       "       [ 1684., 12461.,  2550., 44028.],\n",
       "       [ 2763.,  3254.,  1881., 52825.],\n",
       "       [ 7950., 25659.,  5156., 21958.],\n",
       "       [ 1008.,  2791.,   886., 56038.],\n",
       "       [ 1569.,  5717.,  3561., 49876.],\n",
       "       [15145.,  9635.,  7781., 28162.],\n",
       "       [ 2142., 12067.,  2061., 44453.],\n",
       "       [11487., 13258.,  1099., 34879.],\n",
       "       [ 6557., 26614.,  1391., 26161.],\n",
       "       [ 3698., 17570.,  2089., 37366.],\n",
       "       [ 6446., 18187.,  3640., 32450.],\n",
       "       [ 3547., 20703.,  2864., 33609.],\n",
       "       [ 6190., 17718.,  6307., 30508.],\n",
       "       [24951., 30364.,  2536.,  2872.],\n",
       "       [ 3142., 13588.,  2041., 41952.],\n",
       "       [ 1396., 10462.,  1528., 47337.],\n",
       "       [14483., 39482.,  5492.,  1266.],\n",
       "       [ 1923., 19864.,  2623., 36313.]], dtype=float32)"
      ]
     },
     "execution_count": 26,
     "metadata": {},
     "output_type": "execute_result"
    }
   ],
   "source": []
  },
  {
   "cell_type": "code",
   "execution_count": null,
   "metadata": {},
   "outputs": [],
   "source": []
  }
 ],
 "metadata": {
  "kernelspec": {
   "display_name": "Python 3",
   "language": "python",
   "name": "python3"
  },
  "language_info": {
   "codemirror_mode": {
    "name": "ipython",
    "version": 3
   },
   "file_extension": ".py",
   "mimetype": "text/x-python",
   "name": "python",
   "nbconvert_exporter": "python",
   "pygments_lexer": "ipython3",
   "version": "3.6.6"
  }
 },
 "nbformat": 4,
 "nbformat_minor": 2
}
