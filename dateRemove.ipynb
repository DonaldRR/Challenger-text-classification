{
 "cells": [
  {
   "cell_type": "code",
   "execution_count": 1,
   "metadata": {},
   "outputs": [],
   "source": [
    "import config\n",
    "import numpy as np\n",
    "import matplotlib\n",
    "matplotlib.use('TkAgg')\n",
    "from matplotlib import pyplot as plt"
   ]
  },
  {
   "cell_type": "code",
   "execution_count": 2,
   "metadata": {},
   "outputs": [],
   "source": [
    "Train_label = np.load(config.train_label_path)\n",
    "Train_seq = np.load(config.train_sequence_path)"
   ]
  },
  {
   "cell_type": "code",
   "execution_count": 3,
   "metadata": {},
   "outputs": [
    {
     "name": "stdout",
     "output_type": "stream",
     "text": [
      "Train label shape:(20, 105000, 4)\n"
     ]
    }
   ],
   "source": [
    "print('Train label shape:{}'.format(Train_label.shape))"
   ]
  },
  {
   "cell_type": "code",
   "execution_count": 4,
   "metadata": {},
   "outputs": [],
   "source": [
    "countIdx = np.sum(Train_label, axis=1)\n",
    "maxIdx = np.argmax(countIdx, axis=1)"
   ]
  },
  {
   "cell_type": "code",
   "execution_count": 5,
   "metadata": {},
   "outputs": [],
   "source": [
    "dict_maxIdxRate = {}\n",
    "for i in range(len(maxIdx)):\n",
    "    dict_maxIdxRate[str(i)] = [maxIdx[i], countIdx[i][maxIdx[i]]/105000]"
   ]
  },
  {
   "cell_type": "code",
   "execution_count": 6,
   "metadata": {},
   "outputs": [
    {
     "name": "stdout",
     "output_type": "stream",
     "text": [
      "Rate of maximum counted class with class index\n",
      "\n"
     ]
    },
    {
     "data": {
      "text/plain": [
       "{'0': [3, 0.7750666666666667],\n",
       " '1': [3, 0.796952380952381],\n",
       " '2': [3, 0.7676666666666667],\n",
       " '3': [3, 0.8834571428571428],\n",
       " '4': [3, 0.4039047619047619],\n",
       " '5': [3, 0.9359619047619048],\n",
       " '6': [3, 0.8447619047619047],\n",
       " '7': [3, 0.5030476190476191],\n",
       " '8': [3, 0.7642095238095238],\n",
       " '9': [3, 0.6118380952380953],\n",
       " '10': [3, 0.5134857142857143],\n",
       " '11': [3, 0.6994761904761905],\n",
       " '12': [3, 0.6228380952380952],\n",
       " '13': [3, 0.6342666666666666],\n",
       " '14': [3, 0.5420666666666667],\n",
       " '15': [1, 0.5273047619047619],\n",
       " '16': [3, 0.7235714285714285],\n",
       " '17': [3, 0.8073047619047619],\n",
       " '18': [1, 0.6673333333333333],\n",
       " '19': [3, 0.6247619047619047]}"
      ]
     },
     "execution_count": 6,
     "metadata": {},
     "output_type": "execute_result"
    }
   ],
   "source": [
    "print('Rate of maximum counted class with class index\\n')\n",
    "dict_maxIdxRate"
   ]
  },
  {
   "cell_type": "code",
   "execution_count": 8,
   "metadata": {},
   "outputs": [],
   "source": [
    "count = 0\n",
    "Train_label_idx = np.argmax(Train_label, axis=2)\n",
    "Train_label_idx = np.transpose(Train_label_idx)\n",
    "\n",
    "max_idxs = []\n",
    "for i in range(20):\n",
    "    max_idxs.append(dict_maxIdxRate[str(i)][0])"
   ]
  },
  {
   "cell_type": "code",
   "execution_count": null,
   "metadata": {},
   "outputs": [
    {
     "name": "stderr",
     "output_type": "stream",
     "text": [
      " 20%|██        | 21276/105000 [05:19<20:58, 66.52it/s]"
     ]
    }
   ],
   "source": [
    "from tqdm import tqdm\n",
    "\n",
    "tmp_zeros = np.array([0]*20, dtype=int)\n",
    "for i in tqdm(range(105000)):\n",
    "    tmp_zeros = [Train_label_idx[i][j]==max_idxs[j] for j in range(20)]\n",
    "    if np.sum(tmp_zeros, dtype=float)/20. > 0.75:\n",
    "        Train_label = np.delete(Train_label, i, axis=1)\n",
    "        Train_seq = np.delete(Train_seq, i, axis=0)"
   ]
  },
  {
   "cell_type": "code",
   "execution_count": 10,
   "metadata": {},
   "outputs": [
    {
     "data": {
      "text/plain": [
       "(105000, 400)"
      ]
     },
     "execution_count": 10,
     "metadata": {},
     "output_type": "execute_result"
    }
   ],
   "source": [
    "Train_seq.shape"
   ]
  },
  {
   "cell_type": "code",
   "execution_count": 23,
   "metadata": {},
   "outputs": [],
   "source": [
    "test = np.array([[[1,2],[3,4],[5,6]],[[2,2],[4,4],[6,6]]])"
   ]
  },
  {
   "cell_type": "code",
   "execution_count": 26,
   "metadata": {},
   "outputs": [],
   "source": [
    "test = np.delete(test, 1, axis=1)"
   ]
  },
  {
   "cell_type": "code",
   "execution_count": 27,
   "metadata": {},
   "outputs": [
    {
     "data": {
      "text/plain": [
       "(2, 2, 2)"
      ]
     },
     "execution_count": 27,
     "metadata": {},
     "output_type": "execute_result"
    }
   ],
   "source": [
    "test.shape"
   ]
  },
  {
   "cell_type": "code",
   "execution_count": null,
   "metadata": {},
   "outputs": [],
   "source": []
  }
 ],
 "metadata": {
  "kernelspec": {
   "display_name": "Python 3",
   "language": "python",
   "name": "python3"
  }
 },
 "nbformat": 4,
 "nbformat_minor": 2
}
